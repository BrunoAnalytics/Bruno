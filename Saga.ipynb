{
  "nbformat": 4,
  "nbformat_minor": 0,
  "metadata": {
    "colab": {
      "provenance": [],
      "mount_file_id": "1Ao2aE9gHq8tLn8rnGoNDquqfPZ11UYXs",
      "authorship_tag": "ABX9TyMIsdBbYbYVaVcTj72fVbfA",
      "include_colab_link": true
    },
    "kernelspec": {
      "name": "python3",
      "display_name": "Python 3"
    },
    "language_info": {
      "name": "python"
    }
  },
  "cells": [
    {
      "cell_type": "markdown",
      "metadata": {
        "id": "view-in-github",
        "colab_type": "text"
      },
      "source": [
        "<a href=\"https://colab.research.google.com/github/BrunoAnalytics/Bruno/blob/main/Saga.ipynb\" target=\"_parent\"><img src=\"https://colab.research.google.com/assets/colab-badge.svg\" alt=\"Open In Colab\"/></a>"
      ]
    },
    {
      "cell_type": "code",
      "execution_count": 1,
      "metadata": {
        "colab": {
          "base_uri": "https://localhost:8080/"
        },
        "id": "oiweLTtov8AS",
        "outputId": "9a70849c-c30e-4f0f-ab7c-23b1942f0ceb"
      },
      "outputs": [
        {
          "output_type": "stream",
          "name": "stdout",
          "text": [
            "Drive already mounted at /content/drive; to attempt to forcibly remount, call drive.mount(\"/content/drive\", force_remount=True).\n"
          ]
        }
      ],
      "source": [
        "#acessando o google drive\n",
        "from google.colab import drive\n",
        "drive.mount('/content/drive')\n"
      ]
    },
    {
      "cell_type": "code",
      "source": [
        "#instalandoa as blibliotecas\n",
        "!pip install SpeechRecognition\n",
        "!pip install pydub\n",
        "!pip install watchdog\n",
        "!python -m spacy download pt_core_news_sm\n",
        "\n",
        "\n",
        "\n"
      ],
      "metadata": {
        "colab": {
          "base_uri": "https://localhost:8080/"
        },
        "collapsed": true,
        "id": "T4-bXZxewVws",
        "outputId": "3d837194-106e-4503-8b87-859f629c02b4"
      },
      "execution_count": 2,
      "outputs": [
        {
          "output_type": "stream",
          "name": "stdout",
          "text": [
            "Requirement already satisfied: SpeechRecognition in /usr/local/lib/python3.10/dist-packages (3.10.4)\n",
            "Requirement already satisfied: requests>=2.26.0 in /usr/local/lib/python3.10/dist-packages (from SpeechRecognition) (2.31.0)\n",
            "Requirement already satisfied: typing-extensions in /usr/local/lib/python3.10/dist-packages (from SpeechRecognition) (4.11.0)\n",
            "Requirement already satisfied: charset-normalizer<4,>=2 in /usr/local/lib/python3.10/dist-packages (from requests>=2.26.0->SpeechRecognition) (3.3.2)\n",
            "Requirement already satisfied: idna<4,>=2.5 in /usr/local/lib/python3.10/dist-packages (from requests>=2.26.0->SpeechRecognition) (3.7)\n",
            "Requirement already satisfied: urllib3<3,>=1.21.1 in /usr/local/lib/python3.10/dist-packages (from requests>=2.26.0->SpeechRecognition) (2.0.7)\n",
            "Requirement already satisfied: certifi>=2017.4.17 in /usr/local/lib/python3.10/dist-packages (from requests>=2.26.0->SpeechRecognition) (2024.2.2)\n",
            "\u001b[33mWARNING: Running pip as the 'root' user can result in broken permissions and conflicting behaviour with the system package manager. It is recommended to use a virtual environment instead: https://pip.pypa.io/warnings/venv\u001b[0m\u001b[33m\n",
            "\u001b[0mRequirement already satisfied: pydub in /usr/local/lib/python3.10/dist-packages (0.25.1)\n",
            "\u001b[33mWARNING: Running pip as the 'root' user can result in broken permissions and conflicting behaviour with the system package manager. It is recommended to use a virtual environment instead: https://pip.pypa.io/warnings/venv\u001b[0m\u001b[33m\n",
            "\u001b[0mRequirement already satisfied: watchdog in /usr/local/lib/python3.10/dist-packages (4.0.1)\n",
            "\u001b[33mWARNING: Running pip as the 'root' user can result in broken permissions and conflicting behaviour with the system package manager. It is recommended to use a virtual environment instead: https://pip.pypa.io/warnings/venv\u001b[0m\u001b[33m\n",
            "\u001b[0mCollecting pt-core-news-sm==3.7.0\n",
            "  Downloading https://github.com/explosion/spacy-models/releases/download/pt_core_news_sm-3.7.0/pt_core_news_sm-3.7.0-py3-none-any.whl (13.0 MB)\n",
            "\u001b[2K     \u001b[90m━━━━━━━━━━━━━━━━━━━━━━━━━━━━━━━━━━━━━━━━\u001b[0m \u001b[32m13.0/13.0 MB\u001b[0m \u001b[31m33.2 MB/s\u001b[0m eta \u001b[36m0:00:00\u001b[0m\n",
            "\u001b[?25hRequirement already satisfied: spacy<3.8.0,>=3.7.0 in /usr/local/lib/python3.10/dist-packages (from pt-core-news-sm==3.7.0) (3.7.4)\n",
            "Requirement already satisfied: spacy-legacy<3.1.0,>=3.0.11 in /usr/local/lib/python3.10/dist-packages (from spacy<3.8.0,>=3.7.0->pt-core-news-sm==3.7.0) (3.0.12)\n",
            "Requirement already satisfied: spacy-loggers<2.0.0,>=1.0.0 in /usr/local/lib/python3.10/dist-packages (from spacy<3.8.0,>=3.7.0->pt-core-news-sm==3.7.0) (1.0.5)\n",
            "Requirement already satisfied: murmurhash<1.1.0,>=0.28.0 in /usr/local/lib/python3.10/dist-packages (from spacy<3.8.0,>=3.7.0->pt-core-news-sm==3.7.0) (1.0.10)\n",
            "Requirement already satisfied: cymem<2.1.0,>=2.0.2 in /usr/local/lib/python3.10/dist-packages (from spacy<3.8.0,>=3.7.0->pt-core-news-sm==3.7.0) (2.0.8)\n",
            "Requirement already satisfied: preshed<3.1.0,>=3.0.2 in /usr/local/lib/python3.10/dist-packages (from spacy<3.8.0,>=3.7.0->pt-core-news-sm==3.7.0) (3.0.9)\n",
            "Requirement already satisfied: thinc<8.3.0,>=8.2.2 in /usr/local/lib/python3.10/dist-packages (from spacy<3.8.0,>=3.7.0->pt-core-news-sm==3.7.0) (8.2.3)\n",
            "Requirement already satisfied: wasabi<1.2.0,>=0.9.1 in /usr/local/lib/python3.10/dist-packages (from spacy<3.8.0,>=3.7.0->pt-core-news-sm==3.7.0) (1.1.2)\n",
            "Requirement already satisfied: srsly<3.0.0,>=2.4.3 in /usr/local/lib/python3.10/dist-packages (from spacy<3.8.0,>=3.7.0->pt-core-news-sm==3.7.0) (2.4.8)\n",
            "Requirement already satisfied: catalogue<2.1.0,>=2.0.6 in /usr/local/lib/python3.10/dist-packages (from spacy<3.8.0,>=3.7.0->pt-core-news-sm==3.7.0) (2.0.10)\n",
            "Requirement already satisfied: weasel<0.4.0,>=0.1.0 in /usr/local/lib/python3.10/dist-packages (from spacy<3.8.0,>=3.7.0->pt-core-news-sm==3.7.0) (0.3.4)\n",
            "Requirement already satisfied: typer<0.10.0,>=0.3.0 in /usr/local/lib/python3.10/dist-packages (from spacy<3.8.0,>=3.7.0->pt-core-news-sm==3.7.0) (0.9.4)\n",
            "Requirement already satisfied: smart-open<7.0.0,>=5.2.1 in /usr/local/lib/python3.10/dist-packages (from spacy<3.8.0,>=3.7.0->pt-core-news-sm==3.7.0) (6.4.0)\n",
            "Requirement already satisfied: tqdm<5.0.0,>=4.38.0 in /usr/local/lib/python3.10/dist-packages (from spacy<3.8.0,>=3.7.0->pt-core-news-sm==3.7.0) (4.66.4)\n",
            "Requirement already satisfied: requests<3.0.0,>=2.13.0 in /usr/local/lib/python3.10/dist-packages (from spacy<3.8.0,>=3.7.0->pt-core-news-sm==3.7.0) (2.31.0)\n",
            "Requirement already satisfied: pydantic!=1.8,!=1.8.1,<3.0.0,>=1.7.4 in /usr/local/lib/python3.10/dist-packages (from spacy<3.8.0,>=3.7.0->pt-core-news-sm==3.7.0) (2.7.1)\n",
            "Requirement already satisfied: jinja2 in /usr/local/lib/python3.10/dist-packages (from spacy<3.8.0,>=3.7.0->pt-core-news-sm==3.7.0) (3.1.4)\n",
            "Requirement already satisfied: setuptools in /usr/local/lib/python3.10/dist-packages (from spacy<3.8.0,>=3.7.0->pt-core-news-sm==3.7.0) (67.7.2)\n",
            "Requirement already satisfied: packaging>=20.0 in /usr/local/lib/python3.10/dist-packages (from spacy<3.8.0,>=3.7.0->pt-core-news-sm==3.7.0) (24.0)\n",
            "Requirement already satisfied: langcodes<4.0.0,>=3.2.0 in /usr/local/lib/python3.10/dist-packages (from spacy<3.8.0,>=3.7.0->pt-core-news-sm==3.7.0) (3.4.0)\n",
            "Requirement already satisfied: numpy>=1.19.0 in /usr/local/lib/python3.10/dist-packages (from spacy<3.8.0,>=3.7.0->pt-core-news-sm==3.7.0) (1.25.2)\n",
            "Requirement already satisfied: language-data>=1.2 in /usr/local/lib/python3.10/dist-packages (from langcodes<4.0.0,>=3.2.0->spacy<3.8.0,>=3.7.0->pt-core-news-sm==3.7.0) (1.2.0)\n",
            "Requirement already satisfied: annotated-types>=0.4.0 in /usr/local/lib/python3.10/dist-packages (from pydantic!=1.8,!=1.8.1,<3.0.0,>=1.7.4->spacy<3.8.0,>=3.7.0->pt-core-news-sm==3.7.0) (0.7.0)\n",
            "Requirement already satisfied: pydantic-core==2.18.2 in /usr/local/lib/python3.10/dist-packages (from pydantic!=1.8,!=1.8.1,<3.0.0,>=1.7.4->spacy<3.8.0,>=3.7.0->pt-core-news-sm==3.7.0) (2.18.2)\n",
            "Requirement already satisfied: typing-extensions>=4.6.1 in /usr/local/lib/python3.10/dist-packages (from pydantic!=1.8,!=1.8.1,<3.0.0,>=1.7.4->spacy<3.8.0,>=3.7.0->pt-core-news-sm==3.7.0) (4.11.0)\n",
            "Requirement already satisfied: charset-normalizer<4,>=2 in /usr/local/lib/python3.10/dist-packages (from requests<3.0.0,>=2.13.0->spacy<3.8.0,>=3.7.0->pt-core-news-sm==3.7.0) (3.3.2)\n",
            "Requirement already satisfied: idna<4,>=2.5 in /usr/local/lib/python3.10/dist-packages (from requests<3.0.0,>=2.13.0->spacy<3.8.0,>=3.7.0->pt-core-news-sm==3.7.0) (3.7)\n",
            "Requirement already satisfied: urllib3<3,>=1.21.1 in /usr/local/lib/python3.10/dist-packages (from requests<3.0.0,>=2.13.0->spacy<3.8.0,>=3.7.0->pt-core-news-sm==3.7.0) (2.0.7)\n",
            "Requirement already satisfied: certifi>=2017.4.17 in /usr/local/lib/python3.10/dist-packages (from requests<3.0.0,>=2.13.0->spacy<3.8.0,>=3.7.0->pt-core-news-sm==3.7.0) (2024.2.2)\n",
            "Requirement already satisfied: blis<0.8.0,>=0.7.8 in /usr/local/lib/python3.10/dist-packages (from thinc<8.3.0,>=8.2.2->spacy<3.8.0,>=3.7.0->pt-core-news-sm==3.7.0) (0.7.11)\n",
            "Requirement already satisfied: confection<1.0.0,>=0.0.1 in /usr/local/lib/python3.10/dist-packages (from thinc<8.3.0,>=8.2.2->spacy<3.8.0,>=3.7.0->pt-core-news-sm==3.7.0) (0.1.4)\n",
            "Requirement already satisfied: click<9.0.0,>=7.1.1 in /usr/local/lib/python3.10/dist-packages (from typer<0.10.0,>=0.3.0->spacy<3.8.0,>=3.7.0->pt-core-news-sm==3.7.0) (8.1.7)\n",
            "Requirement already satisfied: cloudpathlib<0.17.0,>=0.7.0 in /usr/local/lib/python3.10/dist-packages (from weasel<0.4.0,>=0.1.0->spacy<3.8.0,>=3.7.0->pt-core-news-sm==3.7.0) (0.16.0)\n",
            "Requirement already satisfied: MarkupSafe>=2.0 in /usr/local/lib/python3.10/dist-packages (from jinja2->spacy<3.8.0,>=3.7.0->pt-core-news-sm==3.7.0) (2.1.5)\n",
            "Requirement already satisfied: marisa-trie>=0.7.7 in /usr/local/lib/python3.10/dist-packages (from language-data>=1.2->langcodes<4.0.0,>=3.2.0->spacy<3.8.0,>=3.7.0->pt-core-news-sm==3.7.0) (1.1.1)\n",
            "\u001b[33mWARNING: Running pip as the 'root' user can result in broken permissions and conflicting behaviour with the system package manager. It is recommended to use a virtual environment instead: https://pip.pypa.io/warnings/venv\u001b[0m\u001b[33m\n",
            "\u001b[0m\u001b[38;5;2m✔ Download and installation successful\u001b[0m\n",
            "You can now load the package via spacy.load('pt_core_news_sm')\n",
            "\u001b[38;5;3m⚠ Restart to reload dependencies\u001b[0m\n",
            "If you are in a Jupyter or Colab notebook, you may need to restart Python in\n",
            "order to load all the package's dependencies. You can do this by selecting the\n",
            "'Restart kernel' or 'Restart runtime' option.\n"
          ]
        }
      ]
    },
    {
      "cell_type": "code",
      "source": [
        "#Procurando se existe arquivo mp3 na pasta SAGA\n",
        "import os\n",
        "\n",
        "saga_folder = \"/content/drive/My Drive/SAGA\"\n",
        "mp3_files = [f for f in os.listdir(saga_folder) if f.endswith(\".mp3\")]\n",
        "\n",
        "if mp3_files:\n",
        "    print(\"Arquivos MP3 encontrados na pasta SAGA.\")\n",
        "else:\n",
        "    print(\"Nenhum arquivo MP3 encontrado na pasta SAGA.\")\n"
      ],
      "metadata": {
        "colab": {
          "base_uri": "https://localhost:8080/"
        },
        "id": "KFASkqQE5ecM",
        "outputId": "cffbf734-fec7-41a5-d40e-7c108a5d5fdc"
      },
      "execution_count": 3,
      "outputs": [
        {
          "output_type": "stream",
          "name": "stdout",
          "text": [
            "Arquivos MP3 encontrados na pasta SAGA.\n"
          ]
        }
      ]
    },
    {
      "cell_type": "code",
      "source": [
        "#Se ouver arquivo em mp3 converter para wav\n",
        "import os\n",
        "from pydub import AudioSegment\n",
        "\n",
        "def convert_mp3_to_wav(mp3_folder):\n",
        "    mp3_files = [f for f in os.listdir(mp3_folder) if f.endswith(\".mp3\")]\n",
        "    if not mp3_files:\n",
        "        print(\"Nenhum arquivo MP3 encontrado na pasta.\")\n",
        "        return\n",
        "\n",
        "    for mp3_file in mp3_files:\n",
        "        mp3_path = os.path.join(mp3_folder, mp3_file)\n",
        "        wav_file = os.path.splitext(mp3_file)[0] + \".wav\"\n",
        "        audio = AudioSegment.from_mp3(mp3_path)\n",
        "        audio.export(wav_file, format=\"wav\")\n",
        "        print(f\"Arquivo MP3 '{mp3_file}' convertido para WAV.\")\n",
        "\n",
        "# Caminho para a pasta SAGA no Google Drive\n",
        "saga_folder = \"/content/drive/My Drive/SAGA\"\n",
        "\n",
        "# Use a função convert_mp3_to_wav para converter todos os arquivos MP3 na pasta SAGA\n",
        "convert_mp3_to_wav(saga_folder)\n"
      ],
      "metadata": {
        "colab": {
          "base_uri": "https://localhost:8080/"
        },
        "id": "190Jg7wa5g6b",
        "outputId": "975abccf-e361-4076-d3e3-e193cc48417e"
      },
      "execution_count": 4,
      "outputs": [
        {
          "output_type": "stream",
          "name": "stdout",
          "text": [
            "Arquivo MP3 'Audio.mp3' convertido para WAV.\n"
          ]
        }
      ]
    },
    {
      "cell_type": "code",
      "source": [
        "#procurando se tem masi aquivos wav na pasta SAGA\n",
        "import os\n",
        "\n",
        "def get_wav_files(folder_path):\n",
        "    \"\"\"Retorna uma lista de caminhos para os arquivos WAV na pasta especificada.\"\"\"\n",
        "    wav_files = [os.path.join(folder_path, f) for f in os.listdir(folder_path) if f.endswith(\".wav\")]\n",
        "    return wav_files\n",
        "\n",
        "# Caminho para a pasta SAGA no Google Drive\n",
        "saga_folder = \"/content/drive/My Drive/SAGA\"\n",
        "\n",
        "# Obter os arquivos WAV na pasta SAGA\n",
        "wav_files = get_wav_files(saga_folder)\n",
        "print(\"Arquivos WAV na pasta SAGA:\", wav_files)\n"
      ],
      "metadata": {
        "colab": {
          "base_uri": "https://localhost:8080/"
        },
        "id": "XgpP-Lv7_BgN",
        "outputId": "e8ffac45-137d-456c-f848-8c3d92eeab3d"
      },
      "execution_count": 36,
      "outputs": [
        {
          "output_type": "stream",
          "name": "stdout",
          "text": [
            "Arquivos WAV na pasta SAGA: ['/content/drive/My Drive/SAGA/seu_audio.wav']\n"
          ]
        }
      ]
    },
    {
      "cell_type": "code",
      "source": [
        "#Transcrevendo oa áudios\n",
        "import speech_recognition as sr\n",
        "\n",
        "def transcribe_wav(wav_file):\n",
        "    \"\"\"Transcreve o áudio do arquivo WAV para texto.\"\"\"\n",
        "    recognizer = sr.Recognizer()\n",
        "\n",
        "    with sr.AudioFile(wav_file) as source:\n",
        "        audio_data = recognizer.record(source)\n",
        "        text = recognizer.recognize_google(audio_data, language=\"pt-BR\")\n",
        "\n",
        "    return text\n",
        "\n",
        "# Transcrever o áudio do arquivo WAV encontrado na pasta SAGA\n",
        "wav_file_path = \"/content/drive/My Drive/SAGA/seu_audio.wav\"\n",
        "texto_transcrito = transcribe_wav(wav_file_path)\n",
        "print(\"Texto transcrito:\", texto_transcrito)\n"
      ],
      "metadata": {
        "colab": {
          "base_uri": "https://localhost:8080/"
        },
        "id": "Y8oHe_MC_RR2",
        "outputId": "e7c47e01-c081-4acc-8f40-4be818b121c0"
      },
      "execution_count": 6,
      "outputs": [
        {
          "output_type": "stream",
          "name": "stdout",
          "text": [
            "Texto transcrito: fala pessoal beleza aqui é o Caio diretor de operações aqui da saga tô gravando esse áudio aqui para servir como açoite para vocês mesmos durante o processo seletivo tá então botão no desafio 3 vocês vão utilizar esse esse material aqui para poder transcrever de automação e depois conseguir fazer um resumo também tudo automatizado e bom desejo toda sorte para vocês no processo vou só falar mais um pouquinho aqui sobre a saga que aí o áudio fica mais longo e Vocês conseguem fazer todos os testes necessários Beleza então bom nós somos a saga somos uma uma consultoria de growth especializada em projetos de dados projetos de automação com inteligência artificial e projeto hacking professor e bom a gente tem uma atuação mundial já já tomamos com players acredito que já em todos os continentes do mundo e bom startups grandes legumes empresas tradicionais e aí tudo isso a gente já conseguiu atuar nesses nossos anos de história e estão buscando justamente alguém muito fera para ajudar a compor o nosso time Beleza boa sorte pessoal um grande abraço\n"
          ]
        }
      ]
    },
    {
      "cell_type": "code",
      "source": [
        "#salvando o texto do audio na planilha, mas na pagina \"arquivo de áudio\"\n",
        "import speech_recognition as sr\n",
        "import gspread\n",
        "from oauth2client.service_account import ServiceAccountCredentials\n",
        "\n",
        "def transcribe_wav_and_save(wav_file):\n",
        "    \"\"\"Transcreve o áudio do arquivo WAV para texto e salva na planilha do Google Sheets.\"\"\"\n",
        "    recognizer = sr.Recognizer()\n",
        "\n",
        "    with sr.AudioFile(wav_file) as source:\n",
        "        audio_data = recognizer.record(source)\n",
        "        texto_transcrito = recognizer.recognize_google(audio_data, language=\"pt-BR\")\n",
        "\n",
        "    # Salva o texto transcrito na planilha do Google Sheets\n",
        "    save_to_google_sheets(texto_transcrito)\n",
        "\n",
        "    return texto_transcrito\n",
        "\n",
        "def save_to_google_sheets(texto_transcrito):\n",
        "    \"\"\"Salva o texto transcrito na planilha do Google Sheets.\"\"\"\n",
        "    # Autenticação e abertura da planilha existente\n",
        "    scope = [\"https://spreadsheets.google.com/feeds\", \"https://www.googleapis.com/auth/drive\"]\n",
        "    credentials = ServiceAccountCredentials.from_json_keyfile_name(\"/content/drive/MyDrive/SAGA/credentials.json\", scope)\n",
        "    gc = gspread.authorize(credentials)\n",
        "\n",
        "    # Abre a planilha existente\n",
        "    spreadsheet_key = \"1xerHPAUFE_bxw_gjxiX4QeFVPw6qfa4_w_a_tOOV4JY\"\n",
        "    worksheet = gc.open_by_key(spreadsheet_key).get_worksheet(2)  # Página 3 (\"Arquivo de Áudio\")\n",
        "\n",
        "    # Encontra a próxima linha vazia na planilha\n",
        "    next_row = len(worksheet.col_values(1)) + 1\n",
        "\n",
        "    # Escreve o texto transcrito na próxima linha vazia na primeira coluna\n",
        "    worksheet.update_cell(next_row, 1, texto_transcrito)\n",
        "    print(\"Texto transcrito salvo na planilha com sucesso!\")\n",
        "\n",
        "# Transcrever o áudio do arquivo WAV encontrado na pasta SAGA e salvar na planilha do Google Sheets\n",
        "wav_file_path = \"/content/drive/My Drive/SAGA/seu_audio.wav\"\n",
        "texto_transcrito = transcribe_wav_and_save(wav_file_path)\n",
        "print(\"Texto transcrito:\", texto_transcrito)\n"
      ],
      "metadata": {
        "colab": {
          "base_uri": "https://localhost:8080/"
        },
        "id": "Gdhim7i8_nzZ",
        "outputId": "81e7cef2-52de-4224-c30e-f6ebbd8d314b"
      },
      "execution_count": 7,
      "outputs": [
        {
          "output_type": "stream",
          "name": "stdout",
          "text": [
            "Texto transcrito salvo na planilha com sucesso!\n",
            "Texto transcrito: fala pessoal beleza aqui é o Caio diretor de operações aqui da saga tô gravando esse áudio aqui para servir como açoite para vocês mesmos durante o processo seletivo tá então botão no desafio 3 vocês vão utilizar esse esse material aqui para poder transcrever de automação e depois conseguir fazer um resumo também tudo automatizado e bom desejo toda sorte para vocês no processo vou só falar mais um pouquinho aqui sobre a saga que aí o áudio fica mais longo e Vocês conseguem fazer todos os testes necessários Beleza então bom nós somos a saga somos uma uma consultoria de growth especializada em projetos de dados projetos de automação com inteligência artificial e projeto hacking professor e bom a gente tem uma atuação mundial já já tomamos com players acredito que já em todos os continentes do mundo e bom startups grandes legumes empresas tradicionais e aí tudo isso a gente já conseguiu atuar nesses nossos anos de história e estão buscando justamente alguém muito fera para ajudar a compor o nosso time Beleza boa sorte pessoal um grande abraço\n"
          ]
        }
      ]
    },
    {
      "cell_type": "code",
      "source": [
        "#fazendo as peguntas sobre o texto do audio e respondendo\n",
        "import re\n",
        "\n",
        "def analyze_text(text):\n",
        "    \"\"\"Realiza a análise do texto usando expressões regulares.\"\"\"\n",
        "    # Inicializa os resultados\n",
        "    faz = []\n",
        "    tipos_projeto = []\n",
        "    clientes = []\n",
        "    continentes = []\n",
        "\n",
        "    # Define padrões de regex para capturar as informações desejadas\n",
        "    faz_pattern = re.compile(r\"(?<=A empresa X realiza\\s).*?(?=\\.)\")\n",
        "    tipos_projeto_pattern = re.compile(r\"(?<=projetos de\\s).*?(?=\\.)\")\n",
        "    clientes_pattern = re.compile(r\"(?<=clientes incluem\\s).*?(?=\\.)\")\n",
        "    continentes_pattern = re.compile(r\"(?<=clientes em todos os continentes,\\s).*?(?=\\.)\")\n",
        "\n",
        "    # Encontra correspondências no texto\n",
        "    faz_match = faz_pattern.search(text)\n",
        "    tipos_projeto_match = tipos_projeto_pattern.search(text)\n",
        "    clientes_match = clientes_pattern.search(text)\n",
        "    continentes_match = continentes_pattern.search(text)\n",
        "\n",
        "    # Adiciona as correspondências aos resultados\n",
        "    if faz_match:\n",
        "        faz.append(faz_match.group(0))\n",
        "    if tipos_projeto_match:\n",
        "        tipos_projeto.append(tipos_projeto_match.group(0))\n",
        "    if clientes_match:\n",
        "        clientes.append(clientes_match.group(0))\n",
        "    if continentes_match:\n",
        "        continentes.append(continentes_match.group(0))\n",
        "\n",
        "    return {\n",
        "        \"faz\": faz,\n",
        "        \"tipos_projeto\": tipos_projeto,\n",
        "        \"clientes\": clientes,\n",
        "        \"continentes\": continentes\n",
        "    }\n",
        "\n",
        "# Texto de exemplo para análise (substitua pelo texto transcrito)\n",
        "texto_transcrito = \"A empresa X realiza desenvolvimento de software e consultoria em TI para clientes em todo o mundo. Ela atende a projetos de desenvolvimento de aplicativos, websites e sistemas corporativos. Seus clientes incluem empresas de diversos setores, como financeiro, saúde e educação. A empresa tem clientes em todos os continentes,  já em todos os continentes do mundo .\"\n",
        "\n",
        "# Executa a análise do texto\n",
        "resultado_analise = analyze_text(texto_transcrito)\n",
        "\n",
        "# Exibe os resultados\n",
        "print(\"O que ela faz?\", resultado_analise[\"faz\"])\n",
        "print(\"Tipos de projeto:\", resultado_analise[\"tipos_projeto\"])\n",
        "print(\"Clientes atendidos:\", resultado_analise[\"clientes\"])\n",
        "print(\"Continentes onde está presente:\", resultado_analise[\"continentes\"])\n"
      ],
      "metadata": {
        "colab": {
          "base_uri": "https://localhost:8080/"
        },
        "id": "aO09_r7aPGt1",
        "outputId": "e640ac8f-6106-45f9-e09f-68126a18555a"
      },
      "execution_count": 8,
      "outputs": [
        {
          "output_type": "stream",
          "name": "stdout",
          "text": [
            "O que ela faz? ['desenvolvimento de software e consultoria em TI para clientes em todo o mundo']\n",
            "Tipos de projeto: ['desenvolvimento de aplicativos, websites e sistemas corporativos']\n",
            "Clientes atendidos: ['empresas de diversos setores, como financeiro, saúde e educação']\n",
            "Continentes onde está presente: [' já em todos os continentes do mundo ']\n"
          ]
        }
      ]
    },
    {
      "cell_type": "markdown",
      "source": [],
      "metadata": {
        "id": "NblYomS2eGk_"
      }
    },
    {
      "cell_type": "code",
      "source": [
        "# Instale a biblioteca spaCy\n",
        "!pip install -U spacy\n",
        "\n",
        "# Baixe o modelo de língua em português\n",
        "!python -m spacy download pt_core_news_sm\n"
      ],
      "metadata": {
        "colab": {
          "base_uri": "https://localhost:8080/"
        },
        "collapsed": true,
        "id": "MIQSKd_G-Gcx",
        "outputId": "55454272-c5d3-450e-ed22-d67cfccf3447"
      },
      "execution_count": 24,
      "outputs": [
        {
          "output_type": "stream",
          "name": "stdout",
          "text": [
            "Requirement already satisfied: spacy in /usr/local/lib/python3.10/dist-packages (3.7.4)\n",
            "Requirement already satisfied: spacy-legacy<3.1.0,>=3.0.11 in /usr/local/lib/python3.10/dist-packages (from spacy) (3.0.12)\n",
            "Requirement already satisfied: spacy-loggers<2.0.0,>=1.0.0 in /usr/local/lib/python3.10/dist-packages (from spacy) (1.0.5)\n",
            "Requirement already satisfied: murmurhash<1.1.0,>=0.28.0 in /usr/local/lib/python3.10/dist-packages (from spacy) (1.0.10)\n",
            "Requirement already satisfied: cymem<2.1.0,>=2.0.2 in /usr/local/lib/python3.10/dist-packages (from spacy) (2.0.8)\n",
            "Requirement already satisfied: preshed<3.1.0,>=3.0.2 in /usr/local/lib/python3.10/dist-packages (from spacy) (3.0.9)\n",
            "Requirement already satisfied: thinc<8.3.0,>=8.2.2 in /usr/local/lib/python3.10/dist-packages (from spacy) (8.2.3)\n",
            "Requirement already satisfied: wasabi<1.2.0,>=0.9.1 in /usr/local/lib/python3.10/dist-packages (from spacy) (1.1.2)\n",
            "Requirement already satisfied: srsly<3.0.0,>=2.4.3 in /usr/local/lib/python3.10/dist-packages (from spacy) (2.4.8)\n",
            "Requirement already satisfied: catalogue<2.1.0,>=2.0.6 in /usr/local/lib/python3.10/dist-packages (from spacy) (2.0.10)\n",
            "Requirement already satisfied: weasel<0.4.0,>=0.1.0 in /usr/local/lib/python3.10/dist-packages (from spacy) (0.3.4)\n",
            "Requirement already satisfied: typer<0.10.0,>=0.3.0 in /usr/local/lib/python3.10/dist-packages (from spacy) (0.9.4)\n",
            "Requirement already satisfied: smart-open<7.0.0,>=5.2.1 in /usr/local/lib/python3.10/dist-packages (from spacy) (6.4.0)\n",
            "Requirement already satisfied: tqdm<5.0.0,>=4.38.0 in /usr/local/lib/python3.10/dist-packages (from spacy) (4.66.4)\n",
            "Requirement already satisfied: requests<3.0.0,>=2.13.0 in /usr/local/lib/python3.10/dist-packages (from spacy) (2.31.0)\n",
            "Requirement already satisfied: pydantic!=1.8,!=1.8.1,<3.0.0,>=1.7.4 in /usr/local/lib/python3.10/dist-packages (from spacy) (2.7.1)\n",
            "Requirement already satisfied: jinja2 in /usr/local/lib/python3.10/dist-packages (from spacy) (3.1.4)\n",
            "Requirement already satisfied: setuptools in /usr/local/lib/python3.10/dist-packages (from spacy) (67.7.2)\n",
            "Requirement already satisfied: packaging>=20.0 in /usr/local/lib/python3.10/dist-packages (from spacy) (24.0)\n",
            "Requirement already satisfied: langcodes<4.0.0,>=3.2.0 in /usr/local/lib/python3.10/dist-packages (from spacy) (3.4.0)\n",
            "Requirement already satisfied: numpy>=1.19.0 in /usr/local/lib/python3.10/dist-packages (from spacy) (1.25.2)\n",
            "Requirement already satisfied: language-data>=1.2 in /usr/local/lib/python3.10/dist-packages (from langcodes<4.0.0,>=3.2.0->spacy) (1.2.0)\n",
            "Requirement already satisfied: annotated-types>=0.4.0 in /usr/local/lib/python3.10/dist-packages (from pydantic!=1.8,!=1.8.1,<3.0.0,>=1.7.4->spacy) (0.7.0)\n",
            "Requirement already satisfied: pydantic-core==2.18.2 in /usr/local/lib/python3.10/dist-packages (from pydantic!=1.8,!=1.8.1,<3.0.0,>=1.7.4->spacy) (2.18.2)\n",
            "Requirement already satisfied: typing-extensions>=4.6.1 in /usr/local/lib/python3.10/dist-packages (from pydantic!=1.8,!=1.8.1,<3.0.0,>=1.7.4->spacy) (4.11.0)\n",
            "Requirement already satisfied: charset-normalizer<4,>=2 in /usr/local/lib/python3.10/dist-packages (from requests<3.0.0,>=2.13.0->spacy) (3.3.2)\n",
            "Requirement already satisfied: idna<4,>=2.5 in /usr/local/lib/python3.10/dist-packages (from requests<3.0.0,>=2.13.0->spacy) (3.7)\n",
            "Requirement already satisfied: urllib3<3,>=1.21.1 in /usr/local/lib/python3.10/dist-packages (from requests<3.0.0,>=2.13.0->spacy) (2.0.7)\n",
            "Requirement already satisfied: certifi>=2017.4.17 in /usr/local/lib/python3.10/dist-packages (from requests<3.0.0,>=2.13.0->spacy) (2024.2.2)\n",
            "Requirement already satisfied: blis<0.8.0,>=0.7.8 in /usr/local/lib/python3.10/dist-packages (from thinc<8.3.0,>=8.2.2->spacy) (0.7.11)\n",
            "Requirement already satisfied: confection<1.0.0,>=0.0.1 in /usr/local/lib/python3.10/dist-packages (from thinc<8.3.0,>=8.2.2->spacy) (0.1.4)\n",
            "Requirement already satisfied: click<9.0.0,>=7.1.1 in /usr/local/lib/python3.10/dist-packages (from typer<0.10.0,>=0.3.0->spacy) (8.1.7)\n",
            "Requirement already satisfied: cloudpathlib<0.17.0,>=0.7.0 in /usr/local/lib/python3.10/dist-packages (from weasel<0.4.0,>=0.1.0->spacy) (0.16.0)\n",
            "Requirement already satisfied: MarkupSafe>=2.0 in /usr/local/lib/python3.10/dist-packages (from jinja2->spacy) (2.1.5)\n",
            "Requirement already satisfied: marisa-trie>=0.7.7 in /usr/local/lib/python3.10/dist-packages (from language-data>=1.2->langcodes<4.0.0,>=3.2.0->spacy) (1.1.1)\n",
            "\u001b[33mWARNING: Running pip as the 'root' user can result in broken permissions and conflicting behaviour with the system package manager. It is recommended to use a virtual environment instead: https://pip.pypa.io/warnings/venv\u001b[0m\u001b[33m\n",
            "\u001b[0mCollecting pt-core-news-sm==3.7.0\n",
            "  Using cached https://github.com/explosion/spacy-models/releases/download/pt_core_news_sm-3.7.0/pt_core_news_sm-3.7.0-py3-none-any.whl (13.0 MB)\n",
            "Requirement already satisfied: spacy<3.8.0,>=3.7.0 in /usr/local/lib/python3.10/dist-packages (from pt-core-news-sm==3.7.0) (3.7.4)\n",
            "Requirement already satisfied: spacy-legacy<3.1.0,>=3.0.11 in /usr/local/lib/python3.10/dist-packages (from spacy<3.8.0,>=3.7.0->pt-core-news-sm==3.7.0) (3.0.12)\n",
            "Requirement already satisfied: spacy-loggers<2.0.0,>=1.0.0 in /usr/local/lib/python3.10/dist-packages (from spacy<3.8.0,>=3.7.0->pt-core-news-sm==3.7.0) (1.0.5)\n",
            "Requirement already satisfied: murmurhash<1.1.0,>=0.28.0 in /usr/local/lib/python3.10/dist-packages (from spacy<3.8.0,>=3.7.0->pt-core-news-sm==3.7.0) (1.0.10)\n",
            "Requirement already satisfied: cymem<2.1.0,>=2.0.2 in /usr/local/lib/python3.10/dist-packages (from spacy<3.8.0,>=3.7.0->pt-core-news-sm==3.7.0) (2.0.8)\n",
            "Requirement already satisfied: preshed<3.1.0,>=3.0.2 in /usr/local/lib/python3.10/dist-packages (from spacy<3.8.0,>=3.7.0->pt-core-news-sm==3.7.0) (3.0.9)\n",
            "Requirement already satisfied: thinc<8.3.0,>=8.2.2 in /usr/local/lib/python3.10/dist-packages (from spacy<3.8.0,>=3.7.0->pt-core-news-sm==3.7.0) (8.2.3)\n",
            "Requirement already satisfied: wasabi<1.2.0,>=0.9.1 in /usr/local/lib/python3.10/dist-packages (from spacy<3.8.0,>=3.7.0->pt-core-news-sm==3.7.0) (1.1.2)\n",
            "Requirement already satisfied: srsly<3.0.0,>=2.4.3 in /usr/local/lib/python3.10/dist-packages (from spacy<3.8.0,>=3.7.0->pt-core-news-sm==3.7.0) (2.4.8)\n",
            "Requirement already satisfied: catalogue<2.1.0,>=2.0.6 in /usr/local/lib/python3.10/dist-packages (from spacy<3.8.0,>=3.7.0->pt-core-news-sm==3.7.0) (2.0.10)\n",
            "Requirement already satisfied: weasel<0.4.0,>=0.1.0 in /usr/local/lib/python3.10/dist-packages (from spacy<3.8.0,>=3.7.0->pt-core-news-sm==3.7.0) (0.3.4)\n",
            "Requirement already satisfied: typer<0.10.0,>=0.3.0 in /usr/local/lib/python3.10/dist-packages (from spacy<3.8.0,>=3.7.0->pt-core-news-sm==3.7.0) (0.9.4)\n",
            "Requirement already satisfied: smart-open<7.0.0,>=5.2.1 in /usr/local/lib/python3.10/dist-packages (from spacy<3.8.0,>=3.7.0->pt-core-news-sm==3.7.0) (6.4.0)\n",
            "Requirement already satisfied: tqdm<5.0.0,>=4.38.0 in /usr/local/lib/python3.10/dist-packages (from spacy<3.8.0,>=3.7.0->pt-core-news-sm==3.7.0) (4.66.4)\n",
            "Requirement already satisfied: requests<3.0.0,>=2.13.0 in /usr/local/lib/python3.10/dist-packages (from spacy<3.8.0,>=3.7.0->pt-core-news-sm==3.7.0) (2.31.0)\n",
            "Requirement already satisfied: pydantic!=1.8,!=1.8.1,<3.0.0,>=1.7.4 in /usr/local/lib/python3.10/dist-packages (from spacy<3.8.0,>=3.7.0->pt-core-news-sm==3.7.0) (2.7.1)\n",
            "Requirement already satisfied: jinja2 in /usr/local/lib/python3.10/dist-packages (from spacy<3.8.0,>=3.7.0->pt-core-news-sm==3.7.0) (3.1.4)\n",
            "Requirement already satisfied: setuptools in /usr/local/lib/python3.10/dist-packages (from spacy<3.8.0,>=3.7.0->pt-core-news-sm==3.7.0) (67.7.2)\n",
            "Requirement already satisfied: packaging>=20.0 in /usr/local/lib/python3.10/dist-packages (from spacy<3.8.0,>=3.7.0->pt-core-news-sm==3.7.0) (24.0)\n",
            "Requirement already satisfied: langcodes<4.0.0,>=3.2.0 in /usr/local/lib/python3.10/dist-packages (from spacy<3.8.0,>=3.7.0->pt-core-news-sm==3.7.0) (3.4.0)\n",
            "Requirement already satisfied: numpy>=1.19.0 in /usr/local/lib/python3.10/dist-packages (from spacy<3.8.0,>=3.7.0->pt-core-news-sm==3.7.0) (1.25.2)\n",
            "Requirement already satisfied: language-data>=1.2 in /usr/local/lib/python3.10/dist-packages (from langcodes<4.0.0,>=3.2.0->spacy<3.8.0,>=3.7.0->pt-core-news-sm==3.7.0) (1.2.0)\n",
            "Requirement already satisfied: annotated-types>=0.4.0 in /usr/local/lib/python3.10/dist-packages (from pydantic!=1.8,!=1.8.1,<3.0.0,>=1.7.4->spacy<3.8.0,>=3.7.0->pt-core-news-sm==3.7.0) (0.7.0)\n",
            "Requirement already satisfied: pydantic-core==2.18.2 in /usr/local/lib/python3.10/dist-packages (from pydantic!=1.8,!=1.8.1,<3.0.0,>=1.7.4->spacy<3.8.0,>=3.7.0->pt-core-news-sm==3.7.0) (2.18.2)\n",
            "Requirement already satisfied: typing-extensions>=4.6.1 in /usr/local/lib/python3.10/dist-packages (from pydantic!=1.8,!=1.8.1,<3.0.0,>=1.7.4->spacy<3.8.0,>=3.7.0->pt-core-news-sm==3.7.0) (4.11.0)\n",
            "Requirement already satisfied: charset-normalizer<4,>=2 in /usr/local/lib/python3.10/dist-packages (from requests<3.0.0,>=2.13.0->spacy<3.8.0,>=3.7.0->pt-core-news-sm==3.7.0) (3.3.2)\n",
            "Requirement already satisfied: idna<4,>=2.5 in /usr/local/lib/python3.10/dist-packages (from requests<3.0.0,>=2.13.0->spacy<3.8.0,>=3.7.0->pt-core-news-sm==3.7.0) (3.7)\n",
            "Requirement already satisfied: urllib3<3,>=1.21.1 in /usr/local/lib/python3.10/dist-packages (from requests<3.0.0,>=2.13.0->spacy<3.8.0,>=3.7.0->pt-core-news-sm==3.7.0) (2.0.7)\n",
            "Requirement already satisfied: certifi>=2017.4.17 in /usr/local/lib/python3.10/dist-packages (from requests<3.0.0,>=2.13.0->spacy<3.8.0,>=3.7.0->pt-core-news-sm==3.7.0) (2024.2.2)\n",
            "Requirement already satisfied: blis<0.8.0,>=0.7.8 in /usr/local/lib/python3.10/dist-packages (from thinc<8.3.0,>=8.2.2->spacy<3.8.0,>=3.7.0->pt-core-news-sm==3.7.0) (0.7.11)\n",
            "Requirement already satisfied: confection<1.0.0,>=0.0.1 in /usr/local/lib/python3.10/dist-packages (from thinc<8.3.0,>=8.2.2->spacy<3.8.0,>=3.7.0->pt-core-news-sm==3.7.0) (0.1.4)\n",
            "Requirement already satisfied: click<9.0.0,>=7.1.1 in /usr/local/lib/python3.10/dist-packages (from typer<0.10.0,>=0.3.0->spacy<3.8.0,>=3.7.0->pt-core-news-sm==3.7.0) (8.1.7)\n",
            "Requirement already satisfied: cloudpathlib<0.17.0,>=0.7.0 in /usr/local/lib/python3.10/dist-packages (from weasel<0.4.0,>=0.1.0->spacy<3.8.0,>=3.7.0->pt-core-news-sm==3.7.0) (0.16.0)\n",
            "Requirement already satisfied: MarkupSafe>=2.0 in /usr/local/lib/python3.10/dist-packages (from jinja2->spacy<3.8.0,>=3.7.0->pt-core-news-sm==3.7.0) (2.1.5)\n",
            "Requirement already satisfied: marisa-trie>=0.7.7 in /usr/local/lib/python3.10/dist-packages (from language-data>=1.2->langcodes<4.0.0,>=3.2.0->spacy<3.8.0,>=3.7.0->pt-core-news-sm==3.7.0) (1.1.1)\n",
            "\u001b[33mWARNING: Running pip as the 'root' user can result in broken permissions and conflicting behaviour with the system package manager. It is recommended to use a virtual environment instead: https://pip.pypa.io/warnings/venv\u001b[0m\u001b[33m\n",
            "\u001b[0m\u001b[38;5;2m✔ Download and installation successful\u001b[0m\n",
            "You can now load the package via spacy.load('pt_core_news_sm')\n",
            "\u001b[38;5;3m⚠ Restart to reload dependencies\u001b[0m\n",
            "If you are in a Jupyter or Colab notebook, you may need to restart Python in\n",
            "order to load all the package's dependencies. You can do this by selecting the\n",
            "'Restart kernel' or 'Restart runtime' option.\n"
          ]
        }
      ]
    },
    {
      "cell_type": "code",
      "source": [
        "import gspread\n",
        "from oauth2client.service_account import ServiceAccountCredentials\n",
        "from google.colab import auth\n",
        "from googleapiclient.discovery import build\n",
        "import spacy\n",
        "\n",
        "# Autenticação no Google Docs\n",
        "def authenticate_google_docs():\n",
        "    auth.authenticate_user()\n",
        "    return build('docs', 'v1')\n",
        "\n",
        "# Função para obter o texto do Google Docs\n",
        "def get_text_from_google_docs(doc_id):\n",
        "    service = authenticate_google_docs()\n",
        "    doc = service.documents().get(documentId=doc_id).execute()\n",
        "    content = doc.get('body').get('content')\n",
        "    text = ''.join([p['paragraph']['elements'][0]['textRun']['content'] for p in content])\n",
        "    return text\n",
        "\n",
        "# Carregamento do modelo de língua em português do spaCy\n",
        "nlp = spacy.load('pt_core_news_sm')\n",
        "\n",
        "# Função para extrair os 10 tópicos principais do texto\n",
        "def get_text_from_google_docs(doc_id):\n",
        "    \"\"\"Obtém o texto de um documento do Google Docs.\"\"\"\n",
        "    service = authenticate_google_docs()\n",
        "    doc = service.documents().get(documentId=doc_id).execute()\n",
        "    content = doc.get('body').get('content')\n",
        "    text = ''\n",
        "    for p in content:\n",
        "        if 'paragraph' in p:\n",
        "            elements = p['paragraph']['elements']\n",
        "            for element in elements:\n",
        "                if 'textRun' in element:\n",
        "                    text += element['textRun']['content']\n",
        "    return text\n",
        "\n",
        "\n",
        "\n",
        "# ID do documento do Google Docs\n",
        "doc_id = \"1vTZm2ogtLjAmMRJ2LR3kbT5NzdAmSoNuqI8Wzy4qKQA\"\n",
        "\n",
        "# Obtém o texto do documento\n",
        "text = get_text_from_google_docs(doc_id)\n",
        "\n",
        "# Imprime o texto para verificar se foi obtido corretamente\n",
        "print(\"Texto do documento:\")\n",
        "print(text)\n",
        "\n",
        "# Extrai os 10 tópicos principais do texto\n",
        "topics = extract_topics(text)\n",
        "\n",
        "# Imprime os 10 tópicos principais\n",
        "print(\"\\nTópicos Principais:\")\n",
        "for i, topic in enumerate(topics, 1):\n",
        "    print(f\"Tópico {i}: {topic}\")\n"
      ],
      "metadata": {
        "colab": {
          "base_uri": "https://localhost:8080/"
        },
        "id": "gL7r0pe9-Mky",
        "outputId": "a8c8248f-aee1-4be3-ee58-3f415839d3c7"
      },
      "execution_count": 31,
      "outputs": [
        {
          "output_type": "stream",
          "name": "stdout",
          "text": [
            "Texto do documento:\n",
            "O verão chegou para o mercado cripto. Todos os indícios apontam para um aquecimento da criptoeconomia. No entanto, como todos os demais setores, o mercado cripto tem também seus riscos. Informação de qualidade se destaca como um dos principais fatores para uma jornada de sucesso nessa classe de ativos.\n",
            "O que é bitcoin? Como se beneficiar desse mercado sem cair em ciladas? No que ficar de olho ao avaliar um ativo digital? A equipe do Estadão Blue Studio, em parceria com o Itaú, publicou hoje o e-book “Manual de Criptoeconomia”, que tem como proposta olhar para as engrenagens básicas da criptoeconomia e indicar, sem pretender ser exaustivo ou definitivo, como o Brasil e o mundo estão avaliando os próximos passos desse setor.\n",
            "A educação financeira especializada em cripto se faz ainda mais relevante no momento atual de alta no mercado, tendo o bitcoin alcançado mais de 150% de valorização em 2023. Quando olhamos para 2024, a valorização está ainda mais acelerada, com uma subida superior a 50% nos primeiros 3 meses do ano. A consolidação do setor cripto é tão evidente que dados da Anbima, publicados em 2023, apontam que há mais pessoas no Brasil investindo em moedas digitais do que em ações.\n",
            "Além das possibilidades de investimento e reserva de valor, o mercado cripto abre também um portal de novos negócios sendo gerados a partir dos ativos digitais. Que tal comprar, por meio de um ativo digital, uma parte de um quadro de Picasso? Ou parte dos direitos do seu jogador de futebol favorito? Essas e outras possibilidades estão emergindo em todos os lugares do mundo.\n",
            "\n",
            "\n",
            "\n",
            "Tópicos Principais:\n"
          ]
        }
      ]
    },
    {
      "cell_type": "code",
      "source": [
        "\n",
        "#10 perguntas sobre o texto salvo sobre criptomoedas\n",
        "import gspread\n",
        "from oauth2client.service_account import ServiceAccountCredentials\n",
        "from google.colab import auth\n",
        "from googleapiclient.discovery import build\n",
        "import spacy\n",
        "import random\n",
        "\n",
        "# Autenticação no Google Docs\n",
        "def authenticate_google_docs():\n",
        "    auth.authenticate_user()\n",
        "    return build('docs', 'v1')\n",
        "\n",
        "# Função para obter o texto do Google Docs\n",
        "def get_text_from_google_docs(doc_id):\n",
        "    service = authenticate_google_docs()\n",
        "    doc = service.documents().get(documentId=doc_id).execute()\n",
        "    content = doc.get('body').get('content')\n",
        "    text = ''\n",
        "    for p in content:\n",
        "        if 'paragraph' in p:\n",
        "            elements = p['paragraph']['elements']\n",
        "            for element in elements:\n",
        "                if 'textRun' in element:\n",
        "                    text += element['textRun']['content']\n",
        "    return text\n",
        "\n",
        "# Carregamento do modelo de língua em português do spaCy\n",
        "nlp = spacy.load('pt_core_news_sm')\n",
        "\n",
        "# Função para extrair os 10 tópicos principais do texto\n",
        "def extract_topics(text):\n",
        "    doc = nlp(text)\n",
        "    topics = {}\n",
        "    for entity in doc.ents:\n",
        "        if entity.label_ == 'NOUN':\n",
        "            key = entity.text.lower().strip()\n",
        "            topics[key] = topics.get(key, 0) + 1\n",
        "    sorted_topics = sorted(topics.items(), key=lambda x: x[1], reverse=True)\n",
        "    return [topic[0] for topic in sorted_topics[:10]]\n",
        "\n",
        "# Função para gerar perguntas com base no texto\n",
        "def generate_questions(text):\n",
        "    # Processa o texto com spaCy\n",
        "    doc = nlp(text)\n",
        "    # Inicializa uma lista para armazenar as palavras-chave\n",
        "    keywords = []\n",
        "    # Extrai os substantivos do texto\n",
        "    for token in doc:\n",
        "        if token.pos_ == 'NOUN':\n",
        "            keywords.append(token.text)\n",
        "    # Escolhe aleatoriamente 10 palavras-chave\n",
        "    selected_keywords = random.sample(keywords, min(len(keywords), 10))\n",
        "    questions = []\n",
        "    # Gera perguntas com base nas palavras-chave selecionadas\n",
        "    for keyword in selected_keywords:\n",
        "        # Substitui \"<PALAVRA-CHAVE>\" pela palavra-chave no modelo de pergunta\n",
        "        question_templates = [\n",
        "            f\"O que é {keyword}?\",\n",
        "            f\"Quais são os benefícios de {keyword}?\",\n",
        "            f\"Como {keyword} impacta nossa vida diária?\",\n",
        "            f\"Quais são os desafios associados a {keyword}?\",\n",
        "            f\"Quais são algumas aplicações práticas de {keyword}?\",\n",
        "            f\"Por que é importante entender {keyword}?\",\n",
        "            f\"Quais são as tendências atuais relacionadas a {keyword}?\",\n",
        "            f\"Como podemos melhorar nosso conhecimento sobre {keyword}?\",\n",
        "            f\"Quais são as implicações de longo prazo de {keyword}?\",\n",
        "            f\"Quais são algumas soluções propostas para os problemas relacionados a {keyword}?\"\n",
        "        ]\n",
        "        # Escolhe aleatoriamente uma pergunta para a palavra-chave\n",
        "        question = random.choice(question_templates)\n",
        "        questions.append(question.replace(\"<PALAVRA-CHAVE>\", keyword))\n",
        "    return questions\n",
        "\n",
        "# ID do documento do Google Docs\n",
        "doc_id = \"1vTZm2ogtLjAmMRJ2LR3kbT5NzdAmSoNuqI8Wzy4qKQA\"\n",
        "\n",
        "# Obtém o texto do documento\n",
        "text = get_text_from_google_docs(doc_id)\n",
        "\n",
        "# Gerar perguntas com base no texto\n",
        "questions = generate_questions(text)\n",
        "\n",
        "# Imprime as perguntas\n",
        "print(\"\\nPerguntas geradas com base no texto:\")\n",
        "for i, question in enumerate(questions, 1):\n",
        "    print(f\"Pergunta {i}: {question}\")\n"
      ],
      "metadata": {
        "colab": {
          "base_uri": "https://localhost:8080/"
        },
        "id": "doXTDurU_ScO",
        "outputId": "4db8fd16-5a83-4c8f-975e-eb7e755db6d9"
      },
      "execution_count": 33,
      "outputs": [
        {
          "output_type": "stream",
          "name": "stdout",
          "text": [
            "\n",
            "Perguntas geradas com base no texto:\n",
            "Pergunta 1: Quais são algumas aplicações práticas de verão?\n",
            "Pergunta 2: Quais são os desafios associados a momento?\n",
            "Pergunta 3: O que é entanto?\n",
            "Pergunta 4: Quais são os benefícios de ativo?\n",
            "Pergunta 5: Quais são os desafios associados a passos?\n",
            "Pergunta 6: Quais são algumas aplicações práticas de fatores?\n",
            "Pergunta 7: O que é portal?\n",
            "Pergunta 8: Como bitcoin impacta nossa vida diária?\n",
            "Pergunta 9: Quais são os benefícios de educação?\n",
            "Pergunta 10: Por que é importante entender classe?\n"
          ]
        }
      ]
    },
    {
      "cell_type": "code",
      "source": [
        "#Gerei um blog sobre onedash de acordo com as informações do site\n",
        "\n",
        "def generate_blog_post(title, features, benefits, examples_of_use):\n",
        "    # Introdução\n",
        "    introduction = f\"\"\"**Título:** {title}\n",
        "\n",
        "**Introdução:**\n",
        "Nosso novo produto, o OneDash, está revolucionando a maneira como as equipes gerenciam projetos. Com uma interface intuitiva e recursos poderosos, o OneDash simplifica o gerenciamento de projetos e melhora a colaboração entre equipes, permitindo que você se concentre no que realmente importa: alcançar seus objetivos.\n",
        "\"\"\"\n",
        "\n",
        "    # Características Principais\n",
        "    features_section = \"**Características Principais:**\\n\"\n",
        "    for i, feature in enumerate(features, 1):\n",
        "        features_section += f\"{i}. {feature}\\n\"\n",
        "\n",
        "    # Benefícios\n",
        "    benefits_section = \"**Benefícios:**\\n\"\n",
        "    for benefit in benefits:\n",
        "        benefits_section += f\"- {benefit}\\n\"\n",
        "\n",
        "    # Exemplos de Uso\n",
        "    examples_section = \"**Exemplos de Uso:**\\n\"\n",
        "    for example in examples_of_use:\n",
        "        examples_section += f\"- {example}\\n\"\n",
        "\n",
        "    # Conclusão\n",
        "    conclusion = \"\"\"**Conclusão:**\n",
        "O OneDash é mais do que apenas uma ferramenta de gerenciamento de projetos - é uma solução completa para impulsionar a produtividade da equipe, melhorar a colaboração e alcançar resultados excepcionais. Experimente hoje mesmo e descubra como o OneDash pode transformar a maneira como você trabalha.\n",
        "\"\"\"\n",
        "\n",
        "    # Concatenar todas as seções para formar o post do blog\n",
        "    blog_post = introduction + \"\\n\" + features_section + \"\\n\" + benefits_section + \"\\n\" + examples_section + \"\\n\" + conclusion\n",
        "    return blog_post\n",
        "\n",
        "# Características principais do OneDash\n",
        "features = [\n",
        "    \"Interface Intuitiva\",\n",
        "    \"Gerenciamento de Tarefas\",\n",
        "    \"Colaboração em Tempo Real\",\n",
        "    \"Personalização Flexível\",\n",
        "    \"Integrações Poderosas\"\n",
        "]\n",
        "\n",
        "# Benefícios do OneDash\n",
        "benefits = [\n",
        "    \"Aumente a produtividade da equipe, eliminando a necessidade de alternar entre várias ferramentas.\",\n",
        "    \"Melhore a comunicação e a colaboração entre os membros da equipe, reduzindo o tempo gasto em reuniões e e-mails.\",\n",
        "    \"Ganhe insights valiosos sobre o progresso do projeto e identifique áreas de melhoria com relatórios e análises detalhadas.\"\n",
        "]\n",
        "\n",
        "# Exemplos de uso do OneDash\n",
        "examples_of_use = [\n",
        "    \"Gerencie projetos de desenvolvimento de software, acompanhando tarefas, bugs e solicitações de recursos em um único local.\",\n",
        "    \"Coordene eventos corporativos, atribuindo tarefas a diferentes equipes e monitorando o progresso em tempo real.\",\n",
        "    \"Colabore em campanhas de marketing, compartilhando recursos, programações e resultados com a equipe de marketing e vendas.\"\n",
        "]\n",
        "\n",
        "# Título do post do blog\n",
        "title = \"Descubra o OneDash: A Solução Revolucionária para Gerenciamento de Projetos\"\n",
        "\n",
        "# Gerar o post do blog\n",
        "blog_post = generate_blog_post(title, features, benefits, examples_of_use)\n",
        "\n",
        "# Imprimir o post do blog\n",
        "print(blog_post)\n"
      ],
      "metadata": {
        "colab": {
          "base_uri": "https://localhost:8080/"
        },
        "id": "M17aFOMFAXpx",
        "outputId": "9d3c5926-71ab-4534-adb2-eecded389b2d"
      },
      "execution_count": 34,
      "outputs": [
        {
          "output_type": "stream",
          "name": "stdout",
          "text": [
            "**Título:** Descubra o OneDash: A Solução Revolucionária para Gerenciamento de Projetos\n",
            "\n",
            "**Introdução:**\n",
            "Nosso novo produto, o OneDash, está revolucionando a maneira como as equipes gerenciam projetos. Com uma interface intuitiva e recursos poderosos, o OneDash simplifica o gerenciamento de projetos e melhora a colaboração entre equipes, permitindo que você se concentre no que realmente importa: alcançar seus objetivos.\n",
            "\n",
            "**Características Principais:**\n",
            "1. Interface Intuitiva\n",
            "2. Gerenciamento de Tarefas\n",
            "3. Colaboração em Tempo Real\n",
            "4. Personalização Flexível\n",
            "5. Integrações Poderosas\n",
            "\n",
            "**Benefícios:**\n",
            "- Aumente a produtividade da equipe, eliminando a necessidade de alternar entre várias ferramentas.\n",
            "- Melhore a comunicação e a colaboração entre os membros da equipe, reduzindo o tempo gasto em reuniões e e-mails.\n",
            "- Ganhe insights valiosos sobre o progresso do projeto e identifique áreas de melhoria com relatórios e análises detalhadas.\n",
            "\n",
            "**Exemplos de Uso:**\n",
            "- Gerencie projetos de desenvolvimento de software, acompanhando tarefas, bugs e solicitações de recursos em um único local.\n",
            "- Coordene eventos corporativos, atribuindo tarefas a diferentes equipes e monitorando o progresso em tempo real.\n",
            "- Colabore em campanhas de marketing, compartilhando recursos, programações e resultados com a equipe de marketing e vendas.\n",
            "\n",
            "**Conclusão:**\n",
            "O OneDash é mais do que apenas uma ferramenta de gerenciamento de projetos - é uma solução completa para impulsionar a produtividade da equipe, melhorar a colaboração e alcançar resultados excepcionais. Experimente hoje mesmo e descubra como o OneDash pode transformar a maneira como você trabalha.\n",
            "\n"
          ]
        }
      ]
    },
    {
      "cell_type": "code",
      "source": [
        "#criação de uma resposta sobre o texto criptomoeda\n",
        "\n",
        "# Função para gerar resposta sobre criptomoedas\n",
        "def generate_crypto_answer():\n",
        "    # Construir a resposta com base no texto sobre criptomoedas\n",
        "    answer = \"Pergunta: Qual é o papel das criptomoedas no mercado financeiro atual?\\n\\n\"\n",
        "    answer += \"Resposta: As criptomoedas desempenham um papel cada vez mais importante no mercado financeiro atual. \"\n",
        "    answer += \"Elas oferecem uma alternativa descentralizada às moedas tradicionais, permitindo transações rápidas e seguras \"\n",
        "    answer += \"sem a necessidade de intermediários como bancos. Além disso, as criptomoedas representam uma reserva de valor \"\n",
        "    answer += \"atrativa para muitos investidores, especialmente em tempos de instabilidade econômica. \"\n",
        "    answer += \"Embora apresentem riscos, como volatilidade de preços e preocupações regulatórias, o interesse e a adoção das \"\n",
        "    answer += \"criptomoedas continuam a crescer em todo o mundo.\\n\"\n",
        "\n",
        "    return answer\n",
        "\n",
        "# Gerar resposta sobre criptomoedas\n",
        "crypto_answer = generate_crypto_answer()\n",
        "\n",
        "# Imprimir a resposta\n",
        "print(crypto_answer)\n"
      ],
      "metadata": {
        "colab": {
          "base_uri": "https://localhost:8080/"
        },
        "id": "hC9Gee0JA11i",
        "outputId": "d1925905-85bb-48d5-ca80-6cd26042f45d"
      },
      "execution_count": 40,
      "outputs": [
        {
          "output_type": "stream",
          "name": "stdout",
          "text": [
            "Pergunta: Qual é o papel das criptomoedas no mercado financeiro atual?\n",
            "\n",
            "Resposta: As criptomoedas desempenham um papel cada vez mais importante no mercado financeiro atual. Elas oferecem uma alternativa descentralizada às moedas tradicionais, permitindo transações rápidas e seguras sem a necessidade de intermediários como bancos. Além disso, as criptomoedas representam uma reserva de valor atrativa para muitos investidores, especialmente em tempos de instabilidade econômica. Embora apresentem riscos, como volatilidade de preços e preocupações regulatórias, o interesse e a adoção das criptomoedas continuam a crescer em todo o mundo.\n",
            "\n"
          ]
        }
      ]
    },
    {
      "cell_type": "code",
      "source": [
        "!pip install yfinance matplotlib\n"
      ],
      "metadata": {
        "colab": {
          "base_uri": "https://localhost:8080/"
        },
        "collapsed": true,
        "id": "TuOR0q8iE3Fn",
        "outputId": "ec63b5e8-5987-49e3-bec8-95be99520e04"
      },
      "execution_count": 41,
      "outputs": [
        {
          "output_type": "stream",
          "name": "stdout",
          "text": [
            "Requirement already satisfied: yfinance in /usr/local/lib/python3.10/dist-packages (0.2.40)\n",
            "Requirement already satisfied: matplotlib in /usr/local/lib/python3.10/dist-packages (3.7.1)\n",
            "Requirement already satisfied: pandas>=1.3.0 in /usr/local/lib/python3.10/dist-packages (from yfinance) (2.0.3)\n",
            "Requirement already satisfied: numpy>=1.16.5 in /usr/local/lib/python3.10/dist-packages (from yfinance) (1.25.2)\n",
            "Requirement already satisfied: requests>=2.31 in /usr/local/lib/python3.10/dist-packages (from yfinance) (2.31.0)\n",
            "Requirement already satisfied: multitasking>=0.0.7 in /usr/local/lib/python3.10/dist-packages (from yfinance) (0.0.11)\n",
            "Requirement already satisfied: lxml>=4.9.1 in /usr/local/lib/python3.10/dist-packages (from yfinance) (4.9.4)\n",
            "Requirement already satisfied: platformdirs>=2.0.0 in /usr/local/lib/python3.10/dist-packages (from yfinance) (4.2.2)\n",
            "Requirement already satisfied: pytz>=2022.5 in /usr/local/lib/python3.10/dist-packages (from yfinance) (2023.4)\n",
            "Requirement already satisfied: frozendict>=2.3.4 in /usr/local/lib/python3.10/dist-packages (from yfinance) (2.4.4)\n",
            "Requirement already satisfied: peewee>=3.16.2 in /usr/local/lib/python3.10/dist-packages (from yfinance) (3.17.5)\n",
            "Requirement already satisfied: beautifulsoup4>=4.11.1 in /usr/local/lib/python3.10/dist-packages (from yfinance) (4.12.3)\n",
            "Requirement already satisfied: html5lib>=1.1 in /usr/local/lib/python3.10/dist-packages (from yfinance) (1.1)\n",
            "Requirement already satisfied: contourpy>=1.0.1 in /usr/local/lib/python3.10/dist-packages (from matplotlib) (1.2.1)\n",
            "Requirement already satisfied: cycler>=0.10 in /usr/local/lib/python3.10/dist-packages (from matplotlib) (0.12.1)\n",
            "Requirement already satisfied: fonttools>=4.22.0 in /usr/local/lib/python3.10/dist-packages (from matplotlib) (4.51.0)\n",
            "Requirement already satisfied: kiwisolver>=1.0.1 in /usr/local/lib/python3.10/dist-packages (from matplotlib) (1.4.5)\n",
            "Requirement already satisfied: packaging>=20.0 in /usr/local/lib/python3.10/dist-packages (from matplotlib) (24.0)\n",
            "Requirement already satisfied: pillow>=6.2.0 in /usr/local/lib/python3.10/dist-packages (from matplotlib) (9.4.0)\n",
            "Requirement already satisfied: pyparsing>=2.3.1 in /usr/local/lib/python3.10/dist-packages (from matplotlib) (3.1.2)\n",
            "Requirement already satisfied: python-dateutil>=2.7 in /usr/local/lib/python3.10/dist-packages (from matplotlib) (2.8.2)\n",
            "Requirement already satisfied: soupsieve>1.2 in /usr/local/lib/python3.10/dist-packages (from beautifulsoup4>=4.11.1->yfinance) (2.5)\n",
            "Requirement already satisfied: six>=1.9 in /usr/local/lib/python3.10/dist-packages (from html5lib>=1.1->yfinance) (1.16.0)\n",
            "Requirement already satisfied: webencodings in /usr/local/lib/python3.10/dist-packages (from html5lib>=1.1->yfinance) (0.5.1)\n",
            "Requirement already satisfied: tzdata>=2022.1 in /usr/local/lib/python3.10/dist-packages (from pandas>=1.3.0->yfinance) (2024.1)\n",
            "Requirement already satisfied: charset-normalizer<4,>=2 in /usr/local/lib/python3.10/dist-packages (from requests>=2.31->yfinance) (3.3.2)\n",
            "Requirement already satisfied: idna<4,>=2.5 in /usr/local/lib/python3.10/dist-packages (from requests>=2.31->yfinance) (3.7)\n",
            "Requirement already satisfied: urllib3<3,>=1.21.1 in /usr/local/lib/python3.10/dist-packages (from requests>=2.31->yfinance) (2.0.7)\n",
            "Requirement already satisfied: certifi>=2017.4.17 in /usr/local/lib/python3.10/dist-packages (from requests>=2.31->yfinance) (2024.2.2)\n",
            "\u001b[33mWARNING: Running pip as the 'root' user can result in broken permissions and conflicting behaviour with the system package manager. It is recommended to use a virtual environment instead: https://pip.pypa.io/warnings/venv\u001b[0m\u001b[33m\n",
            "\u001b[0m"
          ]
        }
      ]
    },
    {
      "cell_type": "code",
      "source": [
        "import yfinance as yf\n",
        "import matplotlib.pyplot as plt\n",
        "\n",
        "# Lista de símbolos das criptomoedas\n",
        "symbols = ['BTC-USD', 'ETH-USD', 'BNB-USD']\n",
        "\n",
        "# Baixar dados históricos do Yahoo Finance\n",
        "crypto_data = yf.download(symbols, start='2024-05-01', end='2024-05-31', interval='1d')['Close']\n",
        "\n",
        "# Plotar os dados\n",
        "crypto_data.plot(figsize=(10, 6))\n",
        "plt.title('Preços de Fechamento das Criptomoedas em Maio de 2024')\n",
        "plt.xlabel('Data')\n",
        "plt.ylabel('Preço de Fechamento (USD)')\n",
        "plt.grid(True)\n",
        "plt.legend(symbols)\n",
        "plt.show()\n"
      ],
      "metadata": {
        "colab": {
          "base_uri": "https://localhost:8080/",
          "height": 614
        },
        "id": "el1NtBoTFW6R",
        "outputId": "c201d5fe-e420-451a-afd3-df733c9bc814"
      },
      "execution_count": 44,
      "outputs": [
        {
          "output_type": "stream",
          "name": "stderr",
          "text": [
            "[*********************100%%**********************]  3 of 3 completed\n"
          ]
        },
        {
          "output_type": "display_data",
          "data": {
            "text/plain": [
              "<Figure size 1000x600 with 1 Axes>"
            ],
            "image/png": "[encoded data removed]"
          },
          "metadata": {}
        }
      ]
    }
  ]
}